{
 "cells": [
  {
   "cell_type": "markdown",
   "id": "52d2bdbb",
   "metadata": {},
   "source": [
    "# Hyperparameter Optimization \n",
    "This notebook deals with the optimization of the hyperparameters of the forecasting algorithms. This task is done with the hyperopt and hpsklearn package."
   ]
  },
  {
   "cell_type": "markdown",
   "id": "3977dbe7",
   "metadata": {},
   "source": [
    "## Import Statements"
   ]
  },
  {
   "cell_type": "code",
   "execution_count": 1,
   "id": "f9851f23",
   "metadata": {},
   "outputs": [],
   "source": [
    "# import statements \n",
    "import numpy as np\n",
    "import pandas as pd\n",
    "import seaborn as sns\n",
    "from matplotlib import pyplot as plt\n",
    "\n",
    "# pre processing\n",
    "from sklearn.model_selection import train_test_split\n",
    "from sklearn.preprocessing import OneHotEncoder, MinMaxScaler\n",
    "\n",
    "# hyperopt library\n",
    "from hpsklearn import HyperoptEstimator, gradient_boosting_regressor, mlp_regressor \n",
    "from hpsklearn import linear_regression, xgboost_regression, decision_tree_regressor\n",
    "from hyperopt import tpe"
   ]
  },
  {
   "cell_type": "markdown",
   "id": "3492a889",
   "metadata": {},
   "source": [
    "## Data Preprocessing\n",
    "The data gets preprocessed in the same way as it gets in the Pipeline."
   ]
  },
  {
   "cell_type": "code",
   "execution_count": 2,
   "id": "c33fff60",
   "metadata": {},
   "outputs": [],
   "source": [
    "# load data\n",
    "data = pd.read_csv(\"data.csv\")\n",
    "\n",
    "# feature selection \n",
    "data = data.drop(['id', 'country'], axis=1)\n",
    "\n",
    "# one hot encoding\n",
    "data = pd.get_dummies(data=data, columns=['ship_mode', 'segment', 'region', 'state', 'city', 'postal_code', 'category', 'sub_category'])\n",
    "\n",
    "X = data.drop('profit', axis=1)\n",
    "y = data['profit']\n",
    "\n",
    "# train test split \n",
    "X_train, X_test, y_train, y_test = train_test_split(X, y, test_size=0.2, random_state=42)\n",
    "\n",
    "# scaling\n",
    "scaler = MinMaxScaler()\n",
    "X_train[['discount', 'sales', 'quantity']] = scaler.fit_transform(X_train[['discount', 'sales', 'quantity']])\n",
    "X_test[['discount', 'sales', 'quantity']] = scaler.transform(X_test[['discount', 'sales', 'quantity']])"
   ]
  },
  {
   "cell_type": "markdown",
   "id": "3ac7fa0b",
   "metadata": {},
   "source": [
    "## Hyperparameter of gradient boosting regressor"
   ]
  },
  {
   "cell_type": "code",
   "execution_count": 3,
   "id": "9b2e10ca",
   "metadata": {
    "scrolled": true
   },
   "outputs": [
    {
     "name": "stdout",
     "output_type": "stream",
     "text": [
      "100%|██████████| 1/1 [00:00<00:00,  1.29trial/s, best loss: 0.9733515736051027]\n",
      "100%|██████████| 2/2 [00:00<00:00,  1.64trial/s, best loss: 0.9569086082668753]\n",
      "100%|██████████| 3/3 [00:00<00:00,  1.33trial/s, best loss: 0.9569086082668753]\n",
      "100%|██████████| 4/4 [00:02<00:00,  2.44s/trial, best loss: 0.9511208572013606]\n",
      "100%|██████████| 5/5 [00:00<00:00,  1.26trial/s, best loss: 0.2753573255932402]\n",
      "100%|██████████| 6/6 [00:10<00:00, 10.08s/trial, best loss: 0.2753573255932402]\n",
      "100%|██████████| 7/7 [00:00<00:00,  1.36trial/s, best loss: 0.2753573255932402]\n",
      "100%|██████████| 8/8 [00:19<00:00, 19.93s/trial, best loss: 0.2753573255932402]\n",
      "100%|██████████| 9/9 [00:00<00:00,  1.29trial/s, best loss: 0.2753573255932402]\n",
      "100%|██████████| 10/10 [00:00<00:00,  1.58trial/s, best loss: 0.2753573255932402]\n",
      "100%|██████████| 11/11 [00:25<00:00, 25.51s/trial, best loss: 0.2753573255932402]\n",
      "100%|██████████| 12/12 [00:03<00:00,  3.02s/trial, best loss: 0.2753573255932402]\n",
      "100%|██████████| 13/13 [00:10<00:00, 10.03s/trial, best loss: 0.2753573255932402]\n",
      "100%|██████████| 14/14 [00:01<00:00,  1.73s/trial, best loss: 0.2753573255932402]\n",
      "100%|██████████| 15/15 [00:03<00:00,  3.60s/trial, best loss: 0.2753573255932402]\n",
      "100%|██████████| 16/16 [00:01<00:00,  1.61s/trial, best loss: 0.2753573255932402]\n",
      "100%|██████████| 17/17 [00:00<00:00,  1.41trial/s, best loss: 0.2753573255932402]\n",
      "100%|██████████| 18/18 [00:02<00:00,  2.07s/trial, best loss: 0.25831060761991065]\n",
      "100%|██████████| 19/19 [00:01<00:00,  1.48s/trial, best loss: 0.25831060761991065]\n",
      "100%|██████████| 20/20 [00:00<00:00,  1.24trial/s, best loss: 0.25831060761991065]\n",
      "100%|██████████| 21/21 [00:00<00:00,  1.59trial/s, best loss: 0.25831060761991065]\n",
      "100%|██████████| 22/22 [00:00<00:00,  1.41trial/s, best loss: 0.25831060761991065]\n",
      "100%|██████████| 23/23 [00:00<00:00,  1.22trial/s, best loss: 0.25831060761991065]\n",
      "100%|██████████| 24/24 [00:01<00:00,  1.61s/trial, best loss: 0.25831060761991065]\n",
      "100%|██████████| 25/25 [00:01<00:00,  1.97s/trial, best loss: 0.25831060761991065]\n",
      "100%|██████████| 26/26 [00:00<00:00,  1.11trial/s, best loss: 0.13992308152479915]\n",
      "100%|██████████| 27/27 [00:00<00:00,  1.37trial/s, best loss: 0.13992308152479915]\n",
      "100%|██████████| 28/28 [00:01<00:00,  1.19s/trial, best loss: 0.13992308152479915]\n",
      "100%|██████████| 29/29 [00:01<00:00,  1.48s/trial, best loss: 0.13992308152479915]\n",
      "100%|██████████| 30/30 [00:02<00:00,  2.09s/trial, best loss: 0.13992308152479915]\n",
      "100%|██████████| 31/31 [00:02<00:00,  2.02s/trial, best loss: 0.13992308152479915]\n",
      "100%|██████████| 32/32 [00:01<00:00,  1.43s/trial, best loss: 0.13992308152479915]\n",
      "100%|██████████| 33/33 [00:00<00:00,  1.23trial/s, best loss: 0.13992308152479915]\n",
      "100%|██████████| 34/34 [00:00<00:00,  1.26trial/s, best loss: 0.13992308152479915]\n",
      "100%|██████████| 35/35 [00:00<00:00,  1.04trial/s, best loss: 0.13992308152479915]\n",
      "100%|██████████| 36/36 [00:01<00:00,  1.33s/trial, best loss: 0.13992308152479915]\n",
      "100%|██████████| 37/37 [00:02<00:00,  2.08s/trial, best loss: 0.13992308152479915]\n",
      "100%|██████████| 38/38 [00:01<00:00,  1.19s/trial, best loss: 0.13992308152479915]\n",
      "100%|██████████| 39/39 [00:00<00:00,  1.17trial/s, best loss: 0.13992308152479915]\n",
      "100%|██████████| 40/40 [00:01<00:00,  1.37s/trial, best loss: 0.13992308152479915]\n",
      "100%|██████████| 41/41 [00:01<00:00,  1.15s/trial, best loss: 0.13992308152479915]\n",
      "100%|██████████| 42/42 [00:00<00:00,  1.53trial/s, best loss: 0.13992308152479915]\n",
      "100%|██████████| 43/43 [00:01<00:00,  1.96s/trial, best loss: 0.13992308152479915]\n",
      "100%|██████████| 44/44 [00:00<00:00,  1.51trial/s, best loss: 0.13992308152479915]\n",
      "100%|██████████| 45/45 [00:01<00:00,  1.65s/trial, best loss: 0.13992308152479915]\n",
      "100%|██████████| 46/46 [00:01<00:00,  1.41s/trial, best loss: 0.13992308152479915]\n",
      "100%|██████████| 47/47 [00:02<00:00,  2.18s/trial, best loss: 0.13992308152479915]\n",
      "100%|██████████| 48/48 [00:01<00:00,  1.67s/trial, best loss: 0.13992308152479915]\n",
      "100%|██████████| 49/49 [00:01<00:00,  1.09s/trial, best loss: 0.13992308152479915]\n",
      "100%|██████████| 50/50 [00:03<00:00,  3.31s/trial, best loss: 0.13992308152479915]\n",
      "0.8382358649246935\n",
      "{'learner': GradientBoostingRegressor(alpha=0.9058591121837715,\n",
      "                          learning_rate=0.15362069100567696,\n",
      "                          max_features=0.31282484841436514, n_estimators=63,\n",
      "                          random_state=3, verbose=False), 'preprocs': (MinMaxScaler(clip=True, feature_range=(-1.0, 1.0)),), 'ex_preprocs': ()}\n"
     ]
    },
    {
     "name": "stderr",
     "output_type": "stream",
     "text": [
      "/Users/philipparbogast/miniforge3/envs/env_tf/lib/python3.9/site-packages/sklearn/base.py:450: UserWarning: X does not have valid feature names, but MinMaxScaler was fitted with feature names\n",
      "  warnings.warn(\n"
     ]
    }
   ],
   "source": [
    "estim = HyperoptEstimator(regressor=gradient_boosting_regressor('myGBR'), algo=tpe.suggest, max_evals=50, trial_timeout=120)\n",
    "estim.fit(X_train, y_train)\n",
    "print(estim.score(X_test, y_test))\n",
    "print(estim.best_model())\n",
    "\n"
   ]
  },
  {
   "cell_type": "markdown",
   "id": "0d3e81e1",
   "metadata": {},
   "source": [
    "## Hyperparameter of linear regression"
   ]
  },
  {
   "cell_type": "code",
   "execution_count": 34,
   "id": "02a94b49",
   "metadata": {
    "scrolled": true
   },
   "outputs": [
    {
     "name": "stdout",
     "output_type": "stream",
     "text": [
      "100%|██████████| 1/1 [00:00<00:00,  1.16trial/s, best loss: 1.37424546058474e+22]\n",
      "100%|██████████| 2/2 [00:00<00:00,  1.05trial/s, best loss: 1.37424546058474e+22]\n",
      "100%|██████████| 3/3 [00:00<00:00,  1.12trial/s, best loss: 1.37424546058474e+22]\n",
      "100%|██████████| 4/4 [00:00<00:00,  1.51trial/s, best loss: 0.9401900300847753]\n",
      "100%|██████████| 5/5 [00:00<00:00,  1.15trial/s, best loss: 0.9401900300847753]\n",
      "100%|██████████| 6/6 [00:00<00:00,  1.17trial/s, best loss: 0.9401900300847753]\n",
      "100%|██████████| 7/7 [00:00<00:00,  1.16trial/s, best loss: 0.9401900300847753]\n",
      "100%|██████████| 8/8 [00:00<00:00,  1.32trial/s, best loss: 0.919073013318271]\n",
      "100%|██████████| 9/9 [00:00<00:00,  1.20trial/s, best loss: 0.919073013318271]\n",
      "100%|██████████| 10/10 [00:00<00:00,  1.20trial/s, best loss: 0.919073013318271]\n",
      "100%|██████████| 11/11 [00:00<00:00,  1.22trial/s, best loss: 0.919073013318271]\n",
      "100%|██████████| 12/12 [00:00<00:00,  1.47trial/s, best loss: 0.919073013318271]\n",
      "100%|██████████| 13/13 [00:00<00:00,  1.33trial/s, best loss: 0.919048813442685]\n",
      "100%|██████████| 14/14 [00:00<00:00,  1.11trial/s, best loss: 0.7540617337814637]\n",
      "100%|██████████| 15/15 [00:00<00:00,  1.17trial/s, best loss: 0.7540617337814637]\n",
      "100%|██████████| 16/16 [00:00<00:00,  1.15trial/s, best loss: 0.7540617337814637]\n",
      "100%|██████████| 17/17 [00:00<00:00,  1.13trial/s, best loss: 0.7540617337814637]\n",
      "100%|██████████| 18/18 [00:00<00:00,  1.30trial/s, best loss: 0.7540617337814637]\n",
      "100%|██████████| 19/19 [00:00<00:00,  1.19trial/s, best loss: 0.7540617337814637]\n",
      "100%|██████████| 20/20 [00:00<00:00,  1.22trial/s, best loss: 0.7390146316361762]\n",
      "100%|██████████| 21/21 [00:01<00:00,  1.05s/trial, best loss: 0.7390146316361762]\n",
      "100%|██████████| 22/22 [00:00<00:00,  1.02trial/s, best loss: 0.7390146316361762]\n",
      "100%|██████████| 23/23 [00:00<00:00,  1.24trial/s, best loss: 0.7390146316361762]\n",
      "100%|██████████| 24/24 [00:00<00:00,  1.25trial/s, best loss: 0.7390146316361762]\n",
      "100%|██████████| 25/25 [00:00<00:00,  1.20trial/s, best loss: 0.7390146316361762]\n",
      "100%|██████████| 26/26 [00:01<00:00,  1.01s/trial, best loss: 0.7390146316361762]\n",
      "100%|██████████| 27/27 [00:00<00:00,  1.24trial/s, best loss: 0.7390146316361762]\n",
      "100%|██████████| 28/28 [00:00<00:00,  1.19trial/s, best loss: 0.7390146316361762]\n",
      "100%|██████████| 29/29 [00:00<00:00,  1.48trial/s, best loss: 0.7390146316361762]\n",
      "100%|██████████| 30/30 [00:00<00:00,  1.13trial/s, best loss: 0.7366777574299449]\n",
      "100%|██████████| 31/31 [00:00<00:00,  1.17trial/s, best loss: 0.7366777574299449]\n",
      "100%|██████████| 32/32 [00:00<00:00,  1.21trial/s, best loss: 0.7366777574299449]\n",
      "100%|██████████| 33/33 [00:00<00:00,  1.15trial/s, best loss: 0.7366777574299449]\n",
      "100%|██████████| 34/34 [00:00<00:00,  1.19trial/s, best loss: 0.7366777574299449]\n",
      "100%|██████████| 35/35 [00:00<00:00,  1.26trial/s, best loss: 0.7366777574299449]\n",
      "100%|██████████| 36/36 [00:00<00:00,  1.20trial/s, best loss: 0.7366777574299449]\n",
      "100%|██████████| 37/37 [00:00<00:00,  1.18trial/s, best loss: 0.7366777574299449]\n",
      "100%|██████████| 38/38 [00:00<00:00,  1.11trial/s, best loss: 0.733767766781657]\n",
      "100%|██████████| 39/39 [00:00<00:00,  1.16trial/s, best loss: 0.733767766781657]\n",
      "100%|██████████| 40/40 [00:00<00:00,  1.19trial/s, best loss: 0.733767766781657]\n",
      "100%|██████████| 41/41 [00:00<00:00,  1.16trial/s, best loss: 0.733767766781657]\n",
      "100%|██████████| 42/42 [00:00<00:00,  1.16trial/s, best loss: 0.733767766781657]\n",
      "100%|██████████| 43/43 [00:00<00:00,  1.51trial/s, best loss: 0.733767766781657]\n",
      "100%|██████████| 44/44 [00:00<00:00,  1.20trial/s, best loss: 0.733767766781657]\n",
      "100%|██████████| 45/45 [00:00<00:00,  1.14trial/s, best loss: 0.733767766781657]\n",
      "100%|██████████| 46/46 [00:00<00:00,  1.22trial/s, best loss: 0.733767766781657]\n",
      "100%|██████████| 47/47 [00:00<00:00,  1.33trial/s, best loss: 0.733767766781657]\n",
      "100%|██████████| 48/48 [00:00<00:00,  1.23trial/s, best loss: 0.733767766781657]\n",
      "100%|██████████| 49/49 [00:00<00:00,  1.50trial/s, best loss: 0.733767766781657]\n",
      "100%|██████████| 50/50 [00:00<00:00,  1.12trial/s, best loss: 0.733767766781657]\n",
      "0.1250104001099981\n",
      "{'learner': LinearRegression(n_jobs=1), 'preprocs': (PCA(n_components=76),), 'ex_preprocs': ()}\n"
     ]
    },
    {
     "name": "stderr",
     "output_type": "stream",
     "text": [
      "/Users/philipparbogast/miniforge3/envs/env_tf/lib/python3.9/site-packages/sklearn/base.py:450: UserWarning: X does not have valid feature names, but PCA was fitted with feature names\n",
      "  warnings.warn(\n"
     ]
    }
   ],
   "source": [
    "estim = HyperoptEstimator(regressor=linear_regression('linear'), algo=tpe.suggest, max_evals=50, trial_timeout=120)\n",
    "estim.fit(X_train, y_train)\n",
    "print(estim.score(X_test, y_test))\n",
    "print(estim.best_model())"
   ]
  },
  {
   "cell_type": "markdown",
   "id": "90fe19e9",
   "metadata": {},
   "source": [
    "## Hyperparameter of xgboost "
   ]
  },
  {
   "cell_type": "code",
   "execution_count": 4,
   "id": "598f67ea",
   "metadata": {},
   "outputs": [
    {
     "name": "stdout",
     "output_type": "stream",
     "text": [
      "100%|██████████| 1/1 [00:19<00:00, 19.81s/trial, best loss: 0.1696678403711025]\n",
      "100%|██████████| 2/2 [00:31<00:00, 31.56s/trial, best loss: 0.1696678403711025]\n",
      "100%|██████████| 3/3 [00:06<00:00,  6.85s/trial, best loss: 0.1696678403711025]\n",
      "100%|██████████| 4/4 [00:27<00:00, 27.05s/trial, best loss: 0.1696678403711025]\n",
      "100%|██████████| 5/5 [02:00<00:00, 120.68s/trial, best loss: 0.1696678403711025]\n",
      "100%|██████████| 6/6 [00:05<00:00,  5.08s/trial, best loss: 0.1696678403711025]\n",
      "100%|██████████| 7/7 [00:59<00:00, 59.25s/trial, best loss: 0.1696678403711025]\n",
      "100%|██████████| 8/8 [02:00<00:00, 120.68s/trial, best loss: 0.1696678403711025]\n",
      "100%|██████████| 9/9 [00:08<00:00,  8.77s/trial, best loss: 0.1696678403711025]\n",
      "100%|██████████| 10/10 [00:13<00:00, 13.92s/trial, best loss: 0.1696678403711025]\n",
      "100%|██████████| 11/11 [02:00<00:00, 120.50s/trial, best loss: 0.1696678403711025]\n",
      "100%|██████████| 12/12 [01:07<00:00, 67.78s/trial, best loss: 0.1696678403711025]\n",
      "100%|██████████| 13/13 [01:10<00:00, 70.69s/trial, best loss: 0.1696678403711025]\n",
      "100%|██████████| 14/14 [01:04<00:00, 64.39s/trial, best loss: 0.1696678403711025]\n",
      "100%|██████████| 15/15 [00:28<00:00, 28.75s/trial, best loss: 0.1696678403711025]\n",
      "100%|██████████| 16/16 [00:48<00:00, 48.69s/trial, best loss: 0.1696678403711025]\n",
      "100%|██████████| 17/17 [00:11<00:00, 11.84s/trial, best loss: 0.1696678403711025]\n",
      "100%|██████████| 18/18 [00:39<00:00, 39.08s/trial, best loss: 0.13064573129760193]\n",
      "100%|██████████| 19/19 [00:02<00:00,  2.64s/trial, best loss: 0.13064573129760193]\n",
      "100%|██████████| 20/20 [01:23<00:00, 83.29s/trial, best loss: 0.13064573129760193]\n",
      "100%|██████████| 21/21 [01:17<00:00, 77.17s/trial, best loss: 0.13064573129760193]\n",
      "100%|██████████| 22/22 [01:09<00:00, 69.25s/trial, best loss: 0.13064573129760193]\n",
      "100%|██████████| 23/23 [07:39<00:00, 459.80s/trial, best loss: 0.13064573129760193]\n",
      "100%|██████████| 24/24 [01:10<00:00, 70.82s/trial, best loss: 0.09866313124811932]\n",
      "100%|██████████| 25/25 [01:59<00:00, 119.15s/trial, best loss: 0.09866313124811932]\n",
      "100%|██████████| 26/26 [01:09<00:00, 69.57s/trial, best loss: 0.09866313124811932]\n",
      "100%|██████████| 27/27 [01:34<00:00, 94.73s/trial, best loss: 0.09866313124811932]\n",
      "100%|██████████| 28/28 [00:21<00:00, 21.98s/trial, best loss: 0.09866313124811932]\n",
      "100%|██████████| 29/29 [00:43<00:00, 43.88s/trial, best loss: 0.09866313124811932]\n",
      "100%|██████████| 30/30 [00:24<00:00, 24.80s/trial, best loss: 0.09866313124811932]\n",
      "100%|██████████| 31/31 [01:17<00:00, 77.63s/trial, best loss: 0.08924522796855161]\n",
      "100%|██████████| 32/32 [01:36<00:00, 96.92s/trial, best loss: 0.08924522796855161]\n",
      "100%|██████████| 33/33 [01:10<00:00, 70.83s/trial, best loss: 0.08924522796855161]\n",
      "100%|██████████| 34/34 [00:51<00:00, 51.86s/trial, best loss: 0.08924522796855161]\n",
      "100%|██████████| 35/35 [00:19<00:00, 19.41s/trial, best loss: 0.08924522796855161]\n",
      "100%|██████████| 36/36 [01:45<00:00, 105.19s/trial, best loss: 0.07481775679235259]\n",
      "100%|██████████| 37/37 [01:35<00:00, 95.76s/trial, best loss: 0.07481775679235259]\n",
      "100%|██████████| 38/38 [00:20<00:00, 20.36s/trial, best loss: 0.07481775679235259]\n",
      "100%|██████████| 39/39 [02:00<00:00, 120.52s/trial, best loss: 0.07481775679235259]\n",
      "100%|██████████| 40/40 [02:00<00:00, 120.50s/trial, best loss: 0.07481775679235259]\n",
      "100%|██████████| 41/41 [00:27<00:00, 27.84s/trial, best loss: 0.07481775679235259]\n",
      "100%|██████████| 42/42 [02:40<00:00, 160.54s/trial, best loss: 0.07481775679235259]\n",
      "100%|██████████| 43/43 [00:36<00:00, 36.53s/trial, best loss: 0.07481775679235259]\n",
      "100%|██████████| 44/44 [01:21<00:00, 81.14s/trial, best loss: 0.07481775679235259]\n",
      "100%|██████████| 45/45 [01:26<00:00, 86.29s/trial, best loss: 0.07481775679235259]\n",
      "100%|██████████| 46/46 [02:00<00:00, 120.57s/trial, best loss: 0.07481775679235259]\n",
      "100%|██████████| 47/47 [02:00<00:00, 120.56s/trial, best loss: 0.07481775679235259]\n",
      "100%|██████████| 48/48 [02:00<00:00, 120.71s/trial, best loss: 0.07481775679235259]\n",
      "100%|██████████| 49/49 [02:00<00:00, 120.72s/trial, best loss: 0.07481775679235259]\n",
      "100%|██████████| 50/50 [02:00<00:00, 120.73s/trial, best loss: 0.07481775679235259]\n",
      "0.888976774181555\n",
      "{'learner': XGBRegressor(base_score=0.5, booster='gbtree', callbacks=None,\n",
      "             colsample_bylevel=0.5405314690707537, colsample_bynode=1,\n",
      "             colsample_bytree=0.8674534859504622, early_stopping_rounds=None,\n",
      "             enable_categorical=False, eval_metric=None,\n",
      "             gamma=0.03192721974998938, gpu_id=-1, grow_policy='depthwise',\n",
      "             importance_type=None, interaction_constraints='',\n",
      "             learning_rate=0.009150635121443894, max_bin=256,\n",
      "             max_cat_to_onehot=4, max_delta_step=0, max_depth=5, max_leaves=0,\n",
      "             min_child_weight=1, missing=nan, monotone_constraints='()',\n",
      "             n_estimators=4000, n_jobs=1, num_parallel_tree=1, predictor='auto',\n",
      "             random_state=2, reg_alpha=0.00015954129899116735,\n",
      "             reg_lambda=2.2844077844705657, ...), 'preprocs': (Normalizer(norm='l1'),), 'ex_preprocs': ()}\n"
     ]
    },
    {
     "name": "stderr",
     "output_type": "stream",
     "text": [
      "/Users/philipparbogast/miniforge3/envs/env_tf/lib/python3.9/site-packages/sklearn/base.py:450: UserWarning: X does not have valid feature names, but Normalizer was fitted with feature names\n",
      "  warnings.warn(\n"
     ]
    }
   ],
   "source": [
    "estim = HyperoptEstimator(regressor=xgboost_regression('xgboost'), algo=tpe.suggest, max_evals=50, trial_timeout=120)\n",
    "estim.fit(X_train, y_train)\n",
    "print(estim.score(X_test, y_test))\n",
    "print(estim.best_model())"
   ]
  },
  {
   "cell_type": "markdown",
   "id": "2e91f2f5",
   "metadata": {},
   "source": [
    "## Hyperparameter of decision tree regressor"
   ]
  },
  {
   "cell_type": "code",
   "execution_count": 8,
   "id": "ee1874b3",
   "metadata": {},
   "outputs": [
    {
     "name": "stdout",
     "output_type": "stream",
     "text": [
      "100%|██████████| 1/1 [00:00<00:00,  1.31trial/s, best loss: 1.3069011411425981]\n",
      "100%|██████████| 2/2 [00:00<00:00,  1.36trial/s, best loss: 0.9295062070055056]\n",
      "100%|██████████| 3/3 [00:00<00:00,  1.47trial/s, best loss: 0.9295062070055056]\n",
      "100%|██████████| 4/4 [00:00<00:00,  1.61trial/s, best loss: 0.48217238816337604]\n",
      "100%|██████████| 5/5 [00:00<00:00,  1.51trial/s, best loss: 0.26133802543014173]\n",
      "100%|██████████| 6/6 [00:00<00:00,  1.65trial/s, best loss: 0.26133802543014173]\n",
      "100%|██████████| 7/7 [00:01<00:00,  1.25s/trial, best loss: 0.26133802543014173]\n",
      "100%|██████████| 8/8 [00:06<00:00,  6.20s/trial, best loss: 0.26133802543014173]\n",
      "100%|██████████| 9/9 [00:00<00:00,  1.19trial/s, best loss: 0.26133802543014173]\n",
      "100%|██████████| 10/10 [00:02<00:00,  2.29s/trial, best loss: 0.26133802543014173]\n",
      "100%|██████████| 11/11 [00:00<00:00,  1.63trial/s, best loss: 0.26133802543014173]\n",
      "100%|██████████| 12/12 [00:00<00:00,  1.67trial/s, best loss: 0.26133802543014173]\n",
      "100%|██████████| 13/13 [00:01<00:00,  1.71s/trial, best loss: 0.26133802543014173]\n",
      "100%|██████████| 14/14 [00:00<00:00,  1.52trial/s, best loss: 0.26133802543014173]\n",
      "100%|██████████| 15/15 [00:01<00:00,  1.37s/trial, best loss: 0.26133802543014173]\n",
      "100%|██████████| 16/16 [00:00<00:00,  1.61trial/s, best loss: 0.26133802543014173]\n",
      "100%|██████████| 17/17 [00:00<00:00,  1.62trial/s, best loss: 0.26133802543014173]\n",
      "100%|██████████| 18/18 [00:00<00:00,  1.44trial/s, best loss: 0.26133802543014173]\n",
      "100%|██████████| 19/19 [00:00<00:00,  1.58trial/s, best loss: 0.26133802543014173]\n",
      "100%|██████████| 20/20 [00:00<00:00,  1.48trial/s, best loss: 0.26133802543014173]\n",
      "100%|██████████| 21/21 [00:00<00:00,  1.60trial/s, best loss: 0.26133802543014173]\n",
      "100%|██████████| 22/22 [00:00<00:00,  1.57trial/s, best loss: 0.26133802543014173]\n",
      "100%|██████████| 23/23 [00:00<00:00,  1.59trial/s, best loss: 0.26133802543014173]\n",
      "100%|██████████| 24/24 [00:00<00:00,  1.66trial/s, best loss: 0.26133802543014173]\n",
      "100%|██████████| 25/25 [00:00<00:00,  1.61trial/s, best loss: 0.26133802543014173]\n",
      "100%|██████████| 26/26 [00:00<00:00,  1.62trial/s, best loss: 0.26133802543014173]\n",
      "100%|██████████| 27/27 [00:00<00:00,  1.47trial/s, best loss: 0.26133802543014173]\n",
      "100%|██████████| 28/28 [00:00<00:00,  1.50trial/s, best loss: 0.26133802543014173]\n",
      "100%|██████████| 29/29 [00:00<00:00,  1.48trial/s, best loss: 0.26133802543014173]\n",
      "100%|██████████| 30/30 [00:00<00:00,  1.50trial/s, best loss: 0.26133802543014173]\n",
      "100%|██████████| 31/31 [00:00<00:00,  1.59trial/s, best loss: 0.26133802543014173]\n",
      "100%|██████████| 32/32 [00:00<00:00,  1.50trial/s, best loss: 0.26133802543014173]\n",
      "100%|██████████| 33/33 [00:01<00:00,  1.06s/trial, best loss: 0.26133802543014173]\n",
      "100%|██████████| 34/34 [00:00<00:00,  1.53trial/s, best loss: 0.26133802543014173]\n",
      "100%|██████████| 35/35 [00:07<00:00,  7.05s/trial, best loss: 0.26133802543014173]\n",
      "100%|██████████| 36/36 [00:08<00:00,  8.78s/trial, best loss: 0.26133802543014173]\n",
      "100%|██████████| 37/37 [00:03<00:00,  3.91s/trial, best loss: 0.26133802543014173]\n",
      "100%|██████████| 38/38 [00:01<00:00,  1.64s/trial, best loss: 0.26133802543014173]\n",
      "100%|██████████| 39/39 [00:13<00:00, 13.40s/trial, best loss: 0.26133802543014173]\n",
      "100%|██████████| 40/40 [00:07<00:00,  7.04s/trial, best loss: 0.26133802543014173]\n",
      "100%|██████████| 41/41 [00:13<00:00, 13.39s/trial, best loss: 0.26133802543014173]\n",
      "100%|██████████| 42/42 [00:13<00:00, 13.34s/trial, best loss: 0.26133802543014173]\n",
      "100%|██████████| 43/43 [00:13<00:00, 13.39s/trial, best loss: 0.26133802543014173]\n",
      "100%|██████████| 44/44 [00:13<00:00, 13.55s/trial, best loss: 0.26133802543014173]\n",
      "100%|██████████| 45/45 [00:12<00:00, 12.49s/trial, best loss: 0.26133802543014173]\n",
      "100%|██████████| 46/46 [00:00<00:00,  1.44trial/s, best loss: 0.26133802543014173]\n",
      "100%|██████████| 47/47 [00:01<00:00,  1.40s/trial, best loss: 0.26133802543014173]\n",
      "100%|██████████| 48/48 [00:00<00:00,  1.57trial/s, best loss: 0.26133802543014173]\n",
      "100%|██████████| 49/49 [00:07<00:00,  7.11s/trial, best loss: 0.26133802543014173]\n",
      "100%|██████████| 50/50 [00:00<00:00,  1.07trial/s, best loss: 0.26133802543014173]\n",
      "0.5867248392977447\n",
      "{'learner': DecisionTreeRegressor(criterion='friedman_mse', max_features=0.8747529583903781,\n",
      "                      random_state=4), 'preprocs': (Normalizer(),), 'ex_preprocs': ()}\n"
     ]
    },
    {
     "name": "stderr",
     "output_type": "stream",
     "text": [
      "/Users/philipparbogast/miniforge3/envs/env_tf/lib/python3.9/site-packages/sklearn/base.py:450: UserWarning: X does not have valid feature names, but Normalizer was fitted with feature names\n",
      "  warnings.warn(\n"
     ]
    }
   ],
   "source": [
    "estim = HyperoptEstimator(regressor=decision_tree_regressor('dec_tree'), algo=tpe.suggest, max_evals=50, trial_timeout=120)\n",
    "estim.fit(X_train, y_train)\n",
    "print(estim.score(X_test, y_test))\n",
    "print(estim.best_model())"
   ]
  }
 ],
 "metadata": {
  "kernelspec": {
   "display_name": "Python 3",
   "language": "python",
   "name": "python3"
  },
  "language_info": {
   "codemirror_mode": {
    "name": "ipython",
    "version": 3
   },
   "file_extension": ".py",
   "mimetype": "text/x-python",
   "name": "python",
   "nbconvert_exporter": "python",
   "pygments_lexer": "ipython3",
   "version": "3.9.12"
  }
 },
 "nbformat": 4,
 "nbformat_minor": 5
}
